{
 "cells": [
  {
   "cell_type": "code",
   "execution_count": 88,
   "metadata": {},
   "outputs": [],
   "source": [
    "import warnings\n",
    "def warn(*args, **kwargs): pass\n",
    "warnings.warn = warn"
   ]
  },
  {
   "cell_type": "code",
   "execution_count": 89,
   "metadata": {},
   "outputs": [],
   "source": [
    "import numpy as np"
   ]
  },
  {
   "cell_type": "code",
   "execution_count": 90,
   "metadata": {},
   "outputs": [],
   "source": [
    "inputFile = 'acp240.txt'"
   ]
  },
  {
   "cell_type": "markdown",
   "metadata": {},
   "source": [
    "why del[0]?"
   ]
  },
  {
   "cell_type": "code",
   "execution_count": 91,
   "metadata": {},
   "outputs": [],
   "source": [
    "def readFASTAs(fileName):\n",
    "    '''\n",
    "    :param fileName:\n",
    "    :return: genome sequences\n",
    "    '''\n",
    "    with open(fileName, 'r') as file:\n",
    "        v = []\n",
    "        genome = ''\n",
    "        for line in file:\n",
    "            if line[0] != '>':\n",
    "                genome += line.strip()\n",
    "            else:\n",
    "                v.append(genome.upper())\n",
    "                genome = ''\n",
    "        v.append(genome.upper())\n",
    "        del v[0]\n",
    "        return v"
   ]
  },
  {
   "cell_type": "code",
   "execution_count": 92,
   "metadata": {},
   "outputs": [],
   "source": [
    "Sequences = readFASTAs(inputFile)\n",
    "X = []\n",
    "for seq in Sequences:\n",
    "    X.append([seq.count('A'), seq.count('C'), seq.count('D'), seq.count('E'), seq.count('F'), seq.count('G'), seq.count('H'), seq.count('I'), seq.count('K'), seq.count('L'), seq.count('M'), seq.count('N'), seq.count('P'), seq.count('Q'), seq.count('R'), seq.count('S'), seq.count('T'), seq.count('V'), seq.count('W'), seq.count('Y')])\n",
    "    #end-for\n",
    "X = np.array(X)"
   ]
  },
  {
   "cell_type": "code",
   "execution_count": 93,
   "metadata": {},
   "outputs": [
    {
     "data": {
      "text/plain": [
       "array([[3, 0, 0, ..., 0, 1, 0],\n",
       "       [8, 0, 0, ..., 0, 6, 0],\n",
       "       [4, 0, 0, ..., 0, 0, 0],\n",
       "       ...,\n",
       "       [1, 0, 1, ..., 0, 0, 0],\n",
       "       [0, 0, 0, ..., 0, 0, 0],\n",
       "       [1, 1, 0, ..., 0, 0, 3]])"
      ]
     },
     "execution_count": 93,
     "metadata": {},
     "output_type": "execute_result"
    }
   ],
   "source": [
    "X"
   ]
  },
  {
   "cell_type": "code",
   "execution_count": 94,
   "metadata": {},
   "outputs": [
    {
     "data": {
      "text/plain": [
       "(240, 20)"
      ]
     },
     "execution_count": 94,
     "metadata": {},
     "output_type": "execute_result"
    }
   ],
   "source": [
    "X.shape"
   ]
  },
  {
   "cell_type": "code",
   "execution_count": 95,
   "metadata": {},
   "outputs": [
    {
     "data": {
      "text/plain": [
       "list"
      ]
     },
     "execution_count": 95,
     "metadata": {},
     "output_type": "execute_result"
    }
   ],
   "source": [
    "type(Sequences)"
   ]
  },
  {
   "cell_type": "code",
   "execution_count": 96,
   "metadata": {},
   "outputs": [],
   "source": [
    "Y  = [1 for _ in range(126)]\n",
    "Y += [0 for _ in range(114)]"
   ]
  },
  {
   "cell_type": "code",
   "execution_count": 97,
   "metadata": {},
   "outputs": [],
   "source": [
    "# Core:\n",
    "import pandas as pd\n",
    "\n",
    "# Machine Learning Algorithms\"\n",
    "\n",
    "from sklearn.svm import SVC\n",
    "from sklearn.linear_model import LogisticRegression\n",
    "from sklearn.neighbors import KNeighborsClassifier\n",
    "from sklearn.tree import DecisionTreeClassifier\n",
    "from sklearn.naive_bayes import GaussianNB\n",
    "from sklearn.ensemble import RandomForestClassifier\n",
    "\n",
    "\n",
    "# Dataset Handle\n",
    "from sklearn.model_selection import train_test_split\n",
    "from sklearn.model_selection import cross_val_score\n",
    "from sklearn.model_selection import cross_val_predict\n",
    "from sklearn.preprocessing import StandardScaler\n",
    "from sklearn.metrics import classification_report\n",
    "\n",
    "# Performance:\n",
    "from sklearn.metrics import (confusion_matrix, accuracy_score,precision_score)"
   ]
  },
  {
   "cell_type": "code",
   "execution_count": 98,
   "metadata": {},
   "outputs": [],
   "source": [
    "classifiers = [\n",
    "    LogisticRegression(),\n",
    "    KNeighborsClassifier(n_neighbors=5),\n",
    "    DecisionTreeClassifier(),\n",
    "    SVC(kernel='rbf', probability=True),\n",
    "    GaussianNB(),\n",
    "    RandomForestClassifier()\n",
    "]"
   ]
  },
  {
   "cell_type": "code",
   "execution_count": 99,
   "metadata": {},
   "outputs": [],
   "source": [
    "\n",
    "accuracy = []\n",
    "precision = []\n",
    "sensitivity = []\n",
    "specificity = []\n",
    "MCC_new = []"
   ]
  },
  {
   "cell_type": "code",
   "execution_count": 100,
   "metadata": {},
   "outputs": [],
   "source": [
    "def perf_measure(y_actual, y_pred):\n",
    "    TP = 0\n",
    "    FP = 0\n",
    "    TN = 0\n",
    "    FN = 0\n",
    "\n",
    "    for i in range(len(y_pred)): \n",
    "        if y_actual[i]==y_pred[i]==1:\n",
    "           TP += 1\n",
    "        if y_pred[i]==1 and y_actual[i]!=y_pred[i]:\n",
    "           FP += 1\n",
    "        if y_actual[i]==y_pred[i]==0:\n",
    "           TN += 1\n",
    "        if y_pred[i]==0 and y_actual[i]!=y_pred[i]:\n",
    "           FN += 1\n",
    "    acc = float(TP + TN) / len(y_actual)\n",
    "    precision = float(TP) / (TP + FP)\n",
    "    sensitivity = float(TP) / (TP+ FN)\n",
    "    specificity = float(TN) / (TN + FP)\n",
    "    MCC = float(TP * TN - FP * FN) / (np.sqrt((TP + FP) * (TP + FN) * (TN + FP) * (TN + FN)))\n",
    "    return acc, precision, sensitivity, specificity, MCC"
   ]
  },
  {
   "cell_type": "code",
   "execution_count": 101,
   "metadata": {},
   "outputs": [
    {
     "name": "stdout",
     "output_type": "stream",
     "text": [
      "Classifier: LogisticRegression, Accuracy: 0.71\n",
      "Classifier: LogisticRegression, Precision: 0.71\n",
      "Classifier: LogisticRegression, Sensitivity: 0.76\n",
      "Classifier: LogisticRegression, Specificity: 0.65\n",
      "Classifier: LogisticRegression, MCC: 0.41\n",
      "\n",
      "Classifier: KNeighborsClassifier, Accuracy: 0.62\n",
      "Classifier: KNeighborsClassifier, Precision: 0.62\n",
      "Classifier: KNeighborsClassifier, Sensitivity: 0.71\n",
      "Classifier: KNeighborsClassifier, Specificity: 0.53\n",
      "Classifier: KNeighborsClassifier, MCC: 0.24\n",
      "\n",
      "Classifier: DecisionTreeClassifier, Accuracy: 0.58\n",
      "Classifier: DecisionTreeClassifier, Precision: 0.61\n",
      "Classifier: DecisionTreeClassifier, Sensitivity: 0.59\n",
      "Classifier: DecisionTreeClassifier, Specificity: 0.58\n",
      "Classifier: DecisionTreeClassifier, MCC: 0.17\n",
      "\n",
      "Classifier: SVC, Accuracy: 0.69\n",
      "Classifier: SVC, Precision: 0.71\n",
      "Classifier: SVC, Sensitivity: 0.70\n",
      "Classifier: SVC, Specificity: 0.68\n",
      "Classifier: SVC, MCC: 0.38\n",
      "\n",
      "Classifier: GaussianNB, Accuracy: 0.60\n",
      "Classifier: GaussianNB, Precision: 0.60\n",
      "Classifier: GaussianNB, Sensitivity: 0.77\n",
      "Classifier: GaussianNB, Specificity: 0.42\n",
      "Classifier: GaussianNB, MCC: 0.20\n",
      "\n",
      "Classifier: RandomForestClassifier, Accuracy: 0.63\n",
      "Classifier: RandomForestClassifier, Precision: 0.67\n",
      "Classifier: RandomForestClassifier, Sensitivity: 0.57\n",
      "Classifier: RandomForestClassifier, Specificity: 0.69\n",
      "Classifier: RandomForestClassifier, MCC: 0.27\n",
      "\n"
     ]
    }
   ],
   "source": [
    "for classifier in classifiers:\n",
    "    model = classifier\n",
    "#     model.fit(Xtrain, Ytrain)\n",
    "\n",
    "    \n",
    "\n",
    "#     Task-1: 70/30\n",
    "#     Yp = model.predict(Xtest)\n",
    "#     accuracy = accuracy_score(y_true=Ytest, y_pred=Yp)\n",
    "#     print('Classifier: {}, Accuracy: {:0.2f}'.format(classifier.__class__.__name__, accuracy))\n",
    "    \n",
    "#     Task-2: cv=5\n",
    "    \n",
    "    scaling = StandardScaler()\n",
    "    X= scaling.fit_transform(X)\n",
    "    y_pred = cross_val_predict(model, X, Y, cv=5)\n",
    "    conf_mat = confusion_matrix(Y, y_pred)\n",
    "#     print(conf_mat)\n",
    "#     z = classification_report(Y, y_pred) \n",
    "#     print(z)\n",
    "    acc, prec, sens, spec, MCC = perf_measure(Y,y_pred)\n",
    "    accuracy.append(float(\"%0.2f\"%acc))\n",
    "    precision.append(float(\"%0.2f\"%prec))\n",
    "    sensitivity.append(float(\"%0.2f\"%sens))\n",
    "    specificity.append(float(\"%0.2f\"%spec))\n",
    "    MCC_new.append(float(\"%0.2f\"%MCC))\n",
    "    print('Classifier: {}, Accuracy: {:0.2f}'.format(classifier.__class__.__name__, acc))\n",
    "    print('Classifier: {}, Precision: {:0.2f}'.format(classifier.__class__.__name__, prec))\n",
    "    print('Classifier: {}, Sensitivity: {:0.2f}'.format(classifier.__class__.__name__, sens))\n",
    "    print('Classifier: {}, Specificity: {:0.2f}'.format(classifier.__class__.__name__, spec))\n",
    "    print('Classifier: {}, MCC: {:0.2f}'.format(classifier.__class__.__name__, MCC))\n",
    "    \n",
    "    print()"
   ]
  },
  {
   "cell_type": "code",
   "execution_count": 102,
   "metadata": {},
   "outputs": [
    {
     "data": {
      "image/png": "[encoded data removed]",
      "text/plain": [
       "<Figure size 640x480 with 1 Axes>"
      ]
     },
     "metadata": {},
     "output_type": "display_data"
    }
   ],
   "source": [
    "import matplotlib.pyplot as plt; plt.rcdefaults()\n",
    "import numpy as np\n",
    "import matplotlib.pyplot as plt\n",
    "\n",
    "objects = ('SVM', 'RF', 'NB', 'LR', 'KNN', 'DTC')\n",
    "y_pos = np.arange(len(objects))\n",
    "performance = accuracy[:]\n",
    "plt.bar(y_pos, performance, align='center', alpha=0.5)\n",
    "plt.xticks(y_pos, objects)\n",
    "plt.ylabel('Percent(%)')\n",
    "plt.title('Performance of ACP240')\n",
    "\n",
    "plt.show()"
   ]
  },
  {
   "cell_type": "code",
   "execution_count": null,
   "metadata": {},
   "outputs": [],
   "source": []
  }
 ],
 "metadata": {
  "kernelspec": {
   "display_name": "Python 3",
   "language": "python",
   "name": "python3"
  },
  "language_info": {
   "codemirror_mode": {
    "name": "ipython",
    "version": 3
   },
   "file_extension": ".py",
   "mimetype": "text/x-python",
   "name": "python",
   "nbconvert_exporter": "python",
   "pygments_lexer": "ipython3",
   "version": "3.7.4"
  }
 },
 "nbformat": 4,
 "nbformat_minor": 2
}
